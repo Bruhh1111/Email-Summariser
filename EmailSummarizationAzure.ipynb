{
  "cells": [
    {
      "cell_type": "markdown",
      "metadata": {
        "id": "view-in-github",
        "colab_type": "text"
      },
      "source": [
        "<a href=\"https://colab.research.google.com/github/Bruhh1111/Email-Summariser/blob/main/EmailSummarizationAzure.ipynb\" target=\"_parent\"><img src=\"https://colab.research.google.com/assets/colab-badge.svg\" alt=\"Open In Colab\"/></a>"
      ]
    },
    {
      "cell_type": "code",
      "execution_count": 6,
      "metadata": {
        "colab": {
          "base_uri": "https://localhost:8080/"
        },
        "id": "vqLaDn4l4-7y",
        "outputId": "0422238b-3945-44b2-8ece-237b6520ac54"
      },
      "outputs": [
        {
          "output_type": "stream",
          "name": "stdout",
          "text": [
            "Collecting openai\n",
            "  Downloading openai-1.52.2-py3-none-any.whl.metadata (24 kB)\n",
            "Requirement already satisfied: anyio<5,>=3.5.0 in /usr/local/lib/python3.10/dist-packages (from openai) (3.7.1)\n",
            "Requirement already satisfied: distro<2,>=1.7.0 in /usr/lib/python3/dist-packages (from openai) (1.7.0)\n",
            "Collecting httpx<1,>=0.23.0 (from openai)\n",
            "  Downloading httpx-0.27.2-py3-none-any.whl.metadata (7.1 kB)\n",
            "Collecting jiter<1,>=0.4.0 (from openai)\n",
            "  Downloading jiter-0.6.1-cp310-cp310-manylinux_2_17_x86_64.manylinux2014_x86_64.whl.metadata (5.2 kB)\n",
            "Requirement already satisfied: pydantic<3,>=1.9.0 in /usr/local/lib/python3.10/dist-packages (from openai) (2.9.2)\n",
            "Requirement already satisfied: sniffio in /usr/local/lib/python3.10/dist-packages (from openai) (1.3.1)\n",
            "Requirement already satisfied: tqdm>4 in /usr/local/lib/python3.10/dist-packages (from openai) (4.66.5)\n",
            "Requirement already satisfied: typing-extensions<5,>=4.11 in /usr/local/lib/python3.10/dist-packages (from openai) (4.12.2)\n",
            "Requirement already satisfied: idna>=2.8 in /usr/local/lib/python3.10/dist-packages (from anyio<5,>=3.5.0->openai) (3.10)\n",
            "Requirement already satisfied: exceptiongroup in /usr/local/lib/python3.10/dist-packages (from anyio<5,>=3.5.0->openai) (1.2.2)\n",
            "Requirement already satisfied: certifi in /usr/local/lib/python3.10/dist-packages (from httpx<1,>=0.23.0->openai) (2024.8.30)\n",
            "Collecting httpcore==1.* (from httpx<1,>=0.23.0->openai)\n",
            "  Downloading httpcore-1.0.6-py3-none-any.whl.metadata (21 kB)\n",
            "Collecting h11<0.15,>=0.13 (from httpcore==1.*->httpx<1,>=0.23.0->openai)\n",
            "  Downloading h11-0.14.0-py3-none-any.whl.metadata (8.2 kB)\n",
            "Requirement already satisfied: annotated-types>=0.6.0 in /usr/local/lib/python3.10/dist-packages (from pydantic<3,>=1.9.0->openai) (0.7.0)\n",
            "Requirement already satisfied: pydantic-core==2.23.4 in /usr/local/lib/python3.10/dist-packages (from pydantic<3,>=1.9.0->openai) (2.23.4)\n",
            "Downloading openai-1.52.2-py3-none-any.whl (386 kB)\n",
            "\u001b[2K   \u001b[90m━━━━━━━━━━━━━━━━━━━━━━━━━━━━━━━━━━━━━━━━\u001b[0m \u001b[32m386.9/386.9 kB\u001b[0m \u001b[31m15.8 MB/s\u001b[0m eta \u001b[36m0:00:00\u001b[0m\n",
            "\u001b[?25hDownloading httpx-0.27.2-py3-none-any.whl (76 kB)\n",
            "\u001b[2K   \u001b[90m━━━━━━━━━━━━━━━━━━━━━━━━━━━━━━━━━━━━━━━━\u001b[0m \u001b[32m76.4/76.4 kB\u001b[0m \u001b[31m5.6 MB/s\u001b[0m eta \u001b[36m0:00:00\u001b[0m\n",
            "\u001b[?25hDownloading httpcore-1.0.6-py3-none-any.whl (78 kB)\n",
            "\u001b[2K   \u001b[90m━━━━━━━━━━━━━━━━━━━━━━━━━━━━━━━━━━━━━━━━\u001b[0m \u001b[32m78.0/78.0 kB\u001b[0m \u001b[31m6.1 MB/s\u001b[0m eta \u001b[36m0:00:00\u001b[0m\n",
            "\u001b[?25hDownloading jiter-0.6.1-cp310-cp310-manylinux_2_17_x86_64.manylinux2014_x86_64.whl (325 kB)\n",
            "\u001b[2K   \u001b[90m━━━━━━━━━━━━━━━━━━━━━━━━━━━━━━━━━━━━━━━━\u001b[0m \u001b[32m325.2/325.2 kB\u001b[0m \u001b[31m17.7 MB/s\u001b[0m eta \u001b[36m0:00:00\u001b[0m\n",
            "\u001b[?25hDownloading h11-0.14.0-py3-none-any.whl (58 kB)\n",
            "\u001b[2K   \u001b[90m━━━━━━━━━━━━━━━━━━━━━━━━━━━━━━━━━━━━━━━━\u001b[0m \u001b[32m58.3/58.3 kB\u001b[0m \u001b[31m4.3 MB/s\u001b[0m eta \u001b[36m0:00:00\u001b[0m\n",
            "\u001b[?25hInstalling collected packages: jiter, h11, httpcore, httpx, openai\n",
            "Successfully installed h11-0.14.0 httpcore-1.0.6 httpx-0.27.2 jiter-0.6.1 openai-1.52.2\n"
          ]
        }
      ],
      "source": [
        "!pip install openai"
      ]
    },
    {
      "cell_type": "code",
      "execution_count": 7,
      "metadata": {
        "id": "1fjwcpPj4eiv"
      },
      "outputs": [],
      "source": [
        "import os\n",
        "from openai import AzureOpenAI"
      ]
    },
    {
      "cell_type": "code",
      "execution_count": 8,
      "metadata": {
        "id": "FAjTQ62143zs"
      },
      "outputs": [],
      "source": [
        "endpoint = os.getenv(\"ENDPOINT_URL\", \"https://ai-mehaknauman6ai9219481888056792.openai.azure.com/\")\n",
        "deployment = os.getenv(\"DEPLOYMENT_NAME\", \"gpt-35-turbo\")\n",
        "subscription_key = os.getenv(\"AZURE_OPENAI_API_KEY\", \"9a38b6fa427a45eaba28ffa8bf4d88a6\")"
      ]
    },
    {
      "cell_type": "code",
      "execution_count": 9,
      "metadata": {
        "id": "yHBQSGkl5YEz"
      },
      "outputs": [],
      "source": [
        "# Initialize Azure OpenAI client with key-based authentication\n",
        "client = AzureOpenAI(\n",
        "  azure_endpoint=endpoint,\n",
        "  api_key=subscription_key,\n",
        "  api_version=\"2024-05-01-preview\",\n",
        ")"
      ]
    },
    {
      "cell_type": "code",
      "execution_count": 5,
      "metadata": {
        "colab": {
          "base_uri": "https://localhost:8080/"
        },
        "id": "nmJsc3KC-Ogy",
        "outputId": "60d7024f-bf17-4238-8461-6fbc4cbeb04b"
      },
      "outputs": [
        {
          "output_type": "stream",
          "name": "stdout",
          "text": [
            "Dataset URL: https://www.kaggle.com/datasets/wcukierski/enron-email-dataset\n",
            "License(s): copyright-authors\n",
            "Downloading enron-email-dataset.zip to /content\n",
            " 95% 341M/358M [00:02<00:00, 114MB/s]\n",
            "100% 358M/358M [00:02<00:00, 135MB/s]\n"
          ]
        }
      ],
      "source": [
        "!kaggle datasets download -d wcukierski/enron-email-dataset"
      ]
    },
    {
      "cell_type": "code",
      "execution_count": 6,
      "metadata": {
        "colab": {
          "base_uri": "https://localhost:8080/"
        },
        "id": "xE914Bl--v60",
        "outputId": "2f8d9ed5-7b9e-46d4-d7ba-5fd186eef3e4"
      },
      "outputs": [
        {
          "output_type": "stream",
          "name": "stdout",
          "text": [
            "Archive:  enron-email-dataset.zip\n",
            "  inflating: emails.csv              \n"
          ]
        }
      ],
      "source": [
        "!unzip enron-email-dataset.zip"
      ]
    },
    {
      "cell_type": "code",
      "execution_count": 7,
      "metadata": {
        "id": "RE4WdsUP_IwI"
      },
      "outputs": [],
      "source": [
        "import pandas as pd\n",
        "\n",
        "df = pd.read_csv('emails.csv')"
      ]
    },
    {
      "cell_type": "code",
      "source": [
        "df.head()"
      ],
      "metadata": {
        "colab": {
          "base_uri": "https://localhost:8080/",
          "height": 206
        },
        "id": "zDtOZEm1en5M",
        "outputId": "b7239605-8f30-4e8c-f2df-19f6afc5dc1b"
      },
      "execution_count": 8,
      "outputs": [
        {
          "output_type": "execute_result",
          "data": {
            "text/plain": [
              "                       file                                            message\n",
              "0     allen-p/_sent_mail/1.  Message-ID: <18782981.1075855378110.JavaMail.e...\n",
              "1    allen-p/_sent_mail/10.  Message-ID: <15464986.1075855378456.JavaMail.e...\n",
              "2   allen-p/_sent_mail/100.  Message-ID: <24216240.1075855687451.JavaMail.e...\n",
              "3  allen-p/_sent_mail/1000.  Message-ID: <13505866.1075863688222.JavaMail.e...\n",
              "4  allen-p/_sent_mail/1001.  Message-ID: <30922949.1075863688243.JavaMail.e..."
            ],
            "text/html": [
              "\n",
              "  <div id=\"df-2a6084fb-2392-43e1-bd29-4fbace065bde\" class=\"colab-df-container\">\n",
              "    <div>\n",
              "<style scoped>\n",
              "    .dataframe tbody tr th:only-of-type {\n",
              "        vertical-align: middle;\n",
              "    }\n",
              "\n",
              "    .dataframe tbody tr th {\n",
              "        vertical-align: top;\n",
              "    }\n",
              "\n",
              "    .dataframe thead th {\n",
              "        text-align: right;\n",
              "    }\n",
              "</style>\n",
              "<table border=\"1\" class=\"dataframe\">\n",
              "  <thead>\n",
              "    <tr style=\"text-align: right;\">\n",
              "      <th></th>\n",
              "      <th>file</th>\n",
              "      <th>message</th>\n",
              "    </tr>\n",
              "  </thead>\n",
              "  <tbody>\n",
              "    <tr>\n",
              "      <th>0</th>\n",
              "      <td>allen-p/_sent_mail/1.</td>\n",
              "      <td>Message-ID: &lt;18782981.1075855378110.JavaMail.e...</td>\n",
              "    </tr>\n",
              "    <tr>\n",
              "      <th>1</th>\n",
              "      <td>allen-p/_sent_mail/10.</td>\n",
              "      <td>Message-ID: &lt;15464986.1075855378456.JavaMail.e...</td>\n",
              "    </tr>\n",
              "    <tr>\n",
              "      <th>2</th>\n",
              "      <td>allen-p/_sent_mail/100.</td>\n",
              "      <td>Message-ID: &lt;24216240.1075855687451.JavaMail.e...</td>\n",
              "    </tr>\n",
              "    <tr>\n",
              "      <th>3</th>\n",
              "      <td>allen-p/_sent_mail/1000.</td>\n",
              "      <td>Message-ID: &lt;13505866.1075863688222.JavaMail.e...</td>\n",
              "    </tr>\n",
              "    <tr>\n",
              "      <th>4</th>\n",
              "      <td>allen-p/_sent_mail/1001.</td>\n",
              "      <td>Message-ID: &lt;30922949.1075863688243.JavaMail.e...</td>\n",
              "    </tr>\n",
              "  </tbody>\n",
              "</table>\n",
              "</div>\n",
              "    <div class=\"colab-df-buttons\">\n",
              "\n",
              "  <div class=\"colab-df-container\">\n",
              "    <button class=\"colab-df-convert\" onclick=\"convertToInteractive('df-2a6084fb-2392-43e1-bd29-4fbace065bde')\"\n",
              "            title=\"Convert this dataframe to an interactive table.\"\n",
              "            style=\"display:none;\">\n",
              "\n",
              "  <svg xmlns=\"http://www.w3.org/2000/svg\" height=\"24px\" viewBox=\"0 -960 960 960\">\n",
              "    <path d=\"M120-120v-720h720v720H120Zm60-500h600v-160H180v160Zm220 220h160v-160H400v160Zm0 220h160v-160H400v160ZM180-400h160v-160H180v160Zm440 0h160v-160H620v160ZM180-180h160v-160H180v160Zm440 0h160v-160H620v160Z\"/>\n",
              "  </svg>\n",
              "    </button>\n",
              "\n",
              "  <style>\n",
              "    .colab-df-container {\n",
              "      display:flex;\n",
              "      gap: 12px;\n",
              "    }\n",
              "\n",
              "    .colab-df-convert {\n",
              "      background-color: #E8F0FE;\n",
              "      border: none;\n",
              "      border-radius: 50%;\n",
              "      cursor: pointer;\n",
              "      display: none;\n",
              "      fill: #1967D2;\n",
              "      height: 32px;\n",
              "      padding: 0 0 0 0;\n",
              "      width: 32px;\n",
              "    }\n",
              "\n",
              "    .colab-df-convert:hover {\n",
              "      background-color: #E2EBFA;\n",
              "      box-shadow: 0px 1px 2px rgba(60, 64, 67, 0.3), 0px 1px 3px 1px rgba(60, 64, 67, 0.15);\n",
              "      fill: #174EA6;\n",
              "    }\n",
              "\n",
              "    .colab-df-buttons div {\n",
              "      margin-bottom: 4px;\n",
              "    }\n",
              "\n",
              "    [theme=dark] .colab-df-convert {\n",
              "      background-color: #3B4455;\n",
              "      fill: #D2E3FC;\n",
              "    }\n",
              "\n",
              "    [theme=dark] .colab-df-convert:hover {\n",
              "      background-color: #434B5C;\n",
              "      box-shadow: 0px 1px 3px 1px rgba(0, 0, 0, 0.15);\n",
              "      filter: drop-shadow(0px 1px 2px rgba(0, 0, 0, 0.3));\n",
              "      fill: #FFFFFF;\n",
              "    }\n",
              "  </style>\n",
              "\n",
              "    <script>\n",
              "      const buttonEl =\n",
              "        document.querySelector('#df-2a6084fb-2392-43e1-bd29-4fbace065bde button.colab-df-convert');\n",
              "      buttonEl.style.display =\n",
              "        google.colab.kernel.accessAllowed ? 'block' : 'none';\n",
              "\n",
              "      async function convertToInteractive(key) {\n",
              "        const element = document.querySelector('#df-2a6084fb-2392-43e1-bd29-4fbace065bde');\n",
              "        const dataTable =\n",
              "          await google.colab.kernel.invokeFunction('convertToInteractive',\n",
              "                                                    [key], {});\n",
              "        if (!dataTable) return;\n",
              "\n",
              "        const docLinkHtml = 'Like what you see? Visit the ' +\n",
              "          '<a target=\"_blank\" href=https://colab.research.google.com/notebooks/data_table.ipynb>data table notebook</a>'\n",
              "          + ' to learn more about interactive tables.';\n",
              "        element.innerHTML = '';\n",
              "        dataTable['output_type'] = 'display_data';\n",
              "        await google.colab.output.renderOutput(dataTable, element);\n",
              "        const docLink = document.createElement('div');\n",
              "        docLink.innerHTML = docLinkHtml;\n",
              "        element.appendChild(docLink);\n",
              "      }\n",
              "    </script>\n",
              "  </div>\n",
              "\n",
              "\n",
              "<div id=\"df-4c7459f0-3a88-4123-91e8-658ed4f35d29\">\n",
              "  <button class=\"colab-df-quickchart\" onclick=\"quickchart('df-4c7459f0-3a88-4123-91e8-658ed4f35d29')\"\n",
              "            title=\"Suggest charts\"\n",
              "            style=\"display:none;\">\n",
              "\n",
              "<svg xmlns=\"http://www.w3.org/2000/svg\" height=\"24px\"viewBox=\"0 0 24 24\"\n",
              "     width=\"24px\">\n",
              "    <g>\n",
              "        <path d=\"M19 3H5c-1.1 0-2 .9-2 2v14c0 1.1.9 2 2 2h14c1.1 0 2-.9 2-2V5c0-1.1-.9-2-2-2zM9 17H7v-7h2v7zm4 0h-2V7h2v10zm4 0h-2v-4h2v4z\"/>\n",
              "    </g>\n",
              "</svg>\n",
              "  </button>\n",
              "\n",
              "<style>\n",
              "  .colab-df-quickchart {\n",
              "      --bg-color: #E8F0FE;\n",
              "      --fill-color: #1967D2;\n",
              "      --hover-bg-color: #E2EBFA;\n",
              "      --hover-fill-color: #174EA6;\n",
              "      --disabled-fill-color: #AAA;\n",
              "      --disabled-bg-color: #DDD;\n",
              "  }\n",
              "\n",
              "  [theme=dark] .colab-df-quickchart {\n",
              "      --bg-color: #3B4455;\n",
              "      --fill-color: #D2E3FC;\n",
              "      --hover-bg-color: #434B5C;\n",
              "      --hover-fill-color: #FFFFFF;\n",
              "      --disabled-bg-color: #3B4455;\n",
              "      --disabled-fill-color: #666;\n",
              "  }\n",
              "\n",
              "  .colab-df-quickchart {\n",
              "    background-color: var(--bg-color);\n",
              "    border: none;\n",
              "    border-radius: 50%;\n",
              "    cursor: pointer;\n",
              "    display: none;\n",
              "    fill: var(--fill-color);\n",
              "    height: 32px;\n",
              "    padding: 0;\n",
              "    width: 32px;\n",
              "  }\n",
              "\n",
              "  .colab-df-quickchart:hover {\n",
              "    background-color: var(--hover-bg-color);\n",
              "    box-shadow: 0 1px 2px rgba(60, 64, 67, 0.3), 0 1px 3px 1px rgba(60, 64, 67, 0.15);\n",
              "    fill: var(--button-hover-fill-color);\n",
              "  }\n",
              "\n",
              "  .colab-df-quickchart-complete:disabled,\n",
              "  .colab-df-quickchart-complete:disabled:hover {\n",
              "    background-color: var(--disabled-bg-color);\n",
              "    fill: var(--disabled-fill-color);\n",
              "    box-shadow: none;\n",
              "  }\n",
              "\n",
              "  .colab-df-spinner {\n",
              "    border: 2px solid var(--fill-color);\n",
              "    border-color: transparent;\n",
              "    border-bottom-color: var(--fill-color);\n",
              "    animation:\n",
              "      spin 1s steps(1) infinite;\n",
              "  }\n",
              "\n",
              "  @keyframes spin {\n",
              "    0% {\n",
              "      border-color: transparent;\n",
              "      border-bottom-color: var(--fill-color);\n",
              "      border-left-color: var(--fill-color);\n",
              "    }\n",
              "    20% {\n",
              "      border-color: transparent;\n",
              "      border-left-color: var(--fill-color);\n",
              "      border-top-color: var(--fill-color);\n",
              "    }\n",
              "    30% {\n",
              "      border-color: transparent;\n",
              "      border-left-color: var(--fill-color);\n",
              "      border-top-color: var(--fill-color);\n",
              "      border-right-color: var(--fill-color);\n",
              "    }\n",
              "    40% {\n",
              "      border-color: transparent;\n",
              "      border-right-color: var(--fill-color);\n",
              "      border-top-color: var(--fill-color);\n",
              "    }\n",
              "    60% {\n",
              "      border-color: transparent;\n",
              "      border-right-color: var(--fill-color);\n",
              "    }\n",
              "    80% {\n",
              "      border-color: transparent;\n",
              "      border-right-color: var(--fill-color);\n",
              "      border-bottom-color: var(--fill-color);\n",
              "    }\n",
              "    90% {\n",
              "      border-color: transparent;\n",
              "      border-bottom-color: var(--fill-color);\n",
              "    }\n",
              "  }\n",
              "</style>\n",
              "\n",
              "  <script>\n",
              "    async function quickchart(key) {\n",
              "      const quickchartButtonEl =\n",
              "        document.querySelector('#' + key + ' button');\n",
              "      quickchartButtonEl.disabled = true;  // To prevent multiple clicks.\n",
              "      quickchartButtonEl.classList.add('colab-df-spinner');\n",
              "      try {\n",
              "        const charts = await google.colab.kernel.invokeFunction(\n",
              "            'suggestCharts', [key], {});\n",
              "      } catch (error) {\n",
              "        console.error('Error during call to suggestCharts:', error);\n",
              "      }\n",
              "      quickchartButtonEl.classList.remove('colab-df-spinner');\n",
              "      quickchartButtonEl.classList.add('colab-df-quickchart-complete');\n",
              "    }\n",
              "    (() => {\n",
              "      let quickchartButtonEl =\n",
              "        document.querySelector('#df-4c7459f0-3a88-4123-91e8-658ed4f35d29 button');\n",
              "      quickchartButtonEl.style.display =\n",
              "        google.colab.kernel.accessAllowed ? 'block' : 'none';\n",
              "    })();\n",
              "  </script>\n",
              "</div>\n",
              "\n",
              "    </div>\n",
              "  </div>\n"
            ],
            "application/vnd.google.colaboratory.intrinsic+json": {
              "type": "dataframe",
              "variable_name": "df"
            }
          },
          "metadata": {},
          "execution_count": 8
        }
      ]
    },
    {
      "cell_type": "code",
      "source": [
        "email = df.iloc[1]['message']"
      ],
      "metadata": {
        "id": "y6-CE0Jfd3tg"
      },
      "execution_count": null,
      "outputs": []
    },
    {
      "cell_type": "code",
      "source": [
        "print(email)"
      ],
      "metadata": {
        "colab": {
          "base_uri": "https://localhost:8080/"
        },
        "id": "kPqrIZlweaFO",
        "outputId": "6ab02d12-0160-4d29-8451-8ee82bfc53f0"
      },
      "execution_count": null,
      "outputs": [
        {
          "output_type": "stream",
          "name": "stdout",
          "text": [
            "Message-ID: <15464986.1075855378456.JavaMail.evans@thyme>\n",
            "Date: Fri, 4 May 2001 13:51:00 -0700 (PDT)\n",
            "From: phillip.allen@enron.com\n",
            "To: john.lavorato@enron.com\n",
            "Subject: Re:\n",
            "Mime-Version: 1.0\n",
            "Content-Type: text/plain; charset=us-ascii\n",
            "Content-Transfer-Encoding: 7bit\n",
            "X-From: Phillip K Allen\n",
            "X-To: John J Lavorato <John J Lavorato/ENRON@enronXgate@ENRON>\n",
            "X-cc: \n",
            "X-bcc: \n",
            "X-Folder: \\Phillip_Allen_Jan2002_1\\Allen, Phillip K.\\'Sent Mail\n",
            "X-Origin: Allen-P\n",
            "X-FileName: pallen (Non-Privileged).pst\n",
            "\n",
            "Traveling to have a business meeting takes the fun out of the trip.  Especially if you have to prepare a presentation.  I would suggest holding the business plan meetings here then take a trip without any formal business meetings.  I would even try and get some honest opinions on whether a trip is even desired or necessary.\n",
            "\n",
            "As far as the business meetings, I think it would be more productive to try and stimulate discussions across the different groups about what is working and what is not.  Too often the presenter speaks and the others are quiet just waiting for their turn.   The meetings might be better if held in a round table discussion format.  \n",
            "\n",
            "My suggestion for where to go is Austin.  Play golf and rent a ski boat and jet ski's.  Flying somewhere takes too much time.\n",
            "\n"
          ]
        }
      ]
    },
    {
      "cell_type": "code",
      "execution_count": null,
      "metadata": {
        "id": "tRegq43Q5o-J"
      },
      "outputs": [],
      "source": [
        "# Prepare the chat prompt\n",
        "chat_prompt = [\n",
        "  {\n",
        "      \"role\": \"system\",\n",
        "      \"content\": '''\n",
        "        You are an AI that summarizes emails. Your job is to read an email and produce a concise summary. Ensure that the summary captures the main points, actions required, deadlines, and key information, if present. The summary should not include any opinionated or toxic content from the email. The tone should remain neutral and professional. Ignore any irrelevant or unnecessary details. If there is no relevant content within the email you do not have to create any key points. Structure the summary as follows:\n",
        "        1. Subject : [Summarize the Email Subject]\n",
        "        2. Sender: [Who is the email from?]\n",
        "        3. Summary: [A short overview of the email's content]\n",
        "        4. KeyPoints:\n",
        "          -  [Point 1]\n",
        "          -  [Point 2]\n",
        "          -  [Any deadlines or important actions]\n",
        "      '''\n",
        "  },\n",
        "  {\n",
        "      \"role\": \"user\",\n",
        "      \"content\": email\n",
        "  }\n",
        "]"
      ]
    },
    {
      "cell_type": "code",
      "execution_count": null,
      "metadata": {
        "id": "4UjpC23I-M0i",
        "colab": {
          "base_uri": "https://localhost:8080/"
        },
        "outputId": "7187034d-5ef0-4b6a-f581-97f44a610b29"
      },
      "outputs": [
        {
          "output_type": "stream",
          "name": "stdout",
          "text": [
            "{\n",
            "  \"id\": \"chatcmpl-AJkFmCTEkvcXDowvUpfgId85Eue3m\",\n",
            "  \"choices\": [\n",
            "    {\n",
            "      \"finish_reason\": \"stop\",\n",
            "      \"index\": 0,\n",
            "      \"logprobs\": null,\n",
            "      \"message\": {\n",
            "        \"content\": \"Subject: Re: \\nSender: Phillip K Allen\\nSummary: Phillip suggests holding business plan meetings locally and having a round table discussion format. He suggests going to Austin for a trip to play golf and rent a ski boat and jet skis.\\nKeyPoints:\\n- Suggests holding business plan meetings locally\\n- Proposes round table discussion format for better productivity\\n- Recommends going to Austin for a trip to play golf and rent a ski boat and jet skis\",\n",
            "        \"role\": \"assistant\"\n",
            "      },\n",
            "      \"content_filter_results\": {\n",
            "        \"hate\": {\n",
            "          \"filtered\": false,\n",
            "          \"severity\": \"safe\"\n",
            "        },\n",
            "        \"protected_material_code\": {\n",
            "          \"filtered\": false,\n",
            "          \"detected\": false\n",
            "        },\n",
            "        \"protected_material_text\": {\n",
            "          \"filtered\": false,\n",
            "          \"detected\": false\n",
            "        },\n",
            "        \"self_harm\": {\n",
            "          \"filtered\": false,\n",
            "          \"severity\": \"safe\"\n",
            "        },\n",
            "        \"sexual\": {\n",
            "          \"filtered\": false,\n",
            "          \"severity\": \"safe\"\n",
            "        },\n",
            "        \"violence\": {\n",
            "          \"filtered\": false,\n",
            "          \"severity\": \"safe\"\n",
            "        }\n",
            "      }\n",
            "    }\n",
            "  ],\n",
            "  \"created\": 1729269394,\n",
            "  \"model\": \"gpt-35-turbo\",\n",
            "  \"object\": \"chat.completion\",\n",
            "  \"system_fingerprint\": null,\n",
            "  \"usage\": {\n",
            "    \"completion_tokens\": 94,\n",
            "    \"prompt_tokens\": 521,\n",
            "    \"total_tokens\": 615\n",
            "  },\n",
            "  \"prompt_filter_results\": [\n",
            "    {\n",
            "      \"prompt_index\": 0,\n",
            "      \"content_filter_results\": {\n",
            "        \"hate\": {\n",
            "          \"filtered\": false,\n",
            "          \"severity\": \"safe\"\n",
            "        },\n",
            "        \"jailbreak\": {\n",
            "          \"filtered\": false,\n",
            "          \"detected\": false\n",
            "        },\n",
            "        \"self_harm\": {\n",
            "          \"filtered\": false,\n",
            "          \"severity\": \"safe\"\n",
            "        },\n",
            "        \"sexual\": {\n",
            "          \"filtered\": false,\n",
            "          \"severity\": \"safe\"\n",
            "        },\n",
            "        \"violence\": {\n",
            "          \"filtered\": false,\n",
            "          \"severity\": \"safe\"\n",
            "        }\n",
            "      }\n",
            "    }\n",
            "  ]\n",
            "}\n"
          ]
        }
      ],
      "source": [
        "# Include speech result if speech is enabled\n",
        "speech_result = chat_prompt\n",
        "\n",
        "# Generate the completion\n",
        "completion = client.chat.completions.create(\n",
        "    model=deployment,\n",
        "    messages=speech_result,\n",
        "    # past_messages=10,\n",
        "    max_tokens=800,\n",
        "    temperature=0.7,\n",
        "    top_p=0.95,\n",
        "    frequency_penalty=0,\n",
        "    presence_penalty=0,\n",
        "    stop=None,\n",
        "    stream=False\n",
        ")\n",
        "\n",
        "print(completion.to_json())\n"
      ]
    },
    {
      "cell_type": "code",
      "source": [
        "choices = completion.choices\n",
        "email_choice = choices[0]"
      ],
      "metadata": {
        "id": "l9ljs-CxfP8m"
      },
      "execution_count": null,
      "outputs": []
    },
    {
      "cell_type": "code",
      "source": [
        "print(email_choice.message.content)"
      ],
      "metadata": {
        "colab": {
          "base_uri": "https://localhost:8080/"
        },
        "id": "e34rcf9OfXk1",
        "outputId": "f1834a91-07a4-4f3b-fe6f-80d2a32796f2"
      },
      "execution_count": null,
      "outputs": [
        {
          "output_type": "stream",
          "name": "stdout",
          "text": [
            "Subject: Re: \n",
            "Sender: Phillip K Allen\n",
            "Summary: Phillip suggests holding business plan meetings locally and having a round table discussion format. He suggests going to Austin for a trip to play golf and rent a ski boat and jet skis.\n",
            "KeyPoints:\n",
            "- Suggests holding business plan meetings locally\n",
            "- Proposes round table discussion format for better productivity\n",
            "- Recommends going to Austin for a trip to play golf and rent a ski boat and jet skis\n"
          ]
        }
      ]
    },
    {
      "cell_type": "markdown",
      "source": [
        "# Generating Synthetic Data"
      ],
      "metadata": {
        "id": "kBNRtfEnGwnJ"
      }
    },
    {
      "cell_type": "code",
      "source": [
        "# Prepare the chat prompt\n",
        "chat_prompt = [\n",
        "  {\n",
        "      \"role\": \"system\",\n",
        "      \"content\": \"\"\"\n",
        "      You are an AI that generates detailed professional email content with embedded, irrelevant comments (such as opinions or toxic remarks) dispersed throughout the body. Each email should be lengthy, focusing on project updates, tasks, and deadlines in a way that requires the summarization tool to filter out unnecessary details.\n",
        "\n",
        "      The email should follow this structure:\n",
        "      1. Subject: [A clear subject for the email]\n",
        "      2. Sender: [A professional name or role]\n",
        "      3. Body: [Create detailed paragraphs, with relevant points, actions, and deadlines scattered across the email. Insert irrelevant or opinionated remarks at random points within the paragraphs to test if the summarization tool can ignore them.]\n",
        "\n",
        "      Example Email:\n",
        "\n",
        "      Subject: Update on Project Milestones and Upcoming Deadlines\n",
        "      Sender: Mark Reynolds, Senior Project Coordinator\n",
        "      Body:\n",
        "\n",
        "      Hi Team,\n",
        "\n",
        "      I wanted to reach out with the latest update on our project’s progress, as well as some important upcoming deadlines that need to be addressed. The initial phase, which involves drafting a comprehensive user interface design, is expected to be finalized by November 15. Alex has done a fantastic job so far, though it wouldn’t hurt if everyone took notes from his work ethic. Once the design is ready, we’ll transition into development, targeted to start by November 25, with all team members involved in different capacities.\n",
        "\n",
        "      It’s really unfortunate how uncooperative the weather has been—it feels like it’s always raining when we need to be on-site. In any case, after the development begins, everyone should be prepared for weekly check-ins to discuss progress and tackle any roadblocks. Maria, please coordinate with the rest of the team to ensure that the resource allocation report is updated by November 20. I’m honestly tired of how last-minute some of these updates are—timeliness is key if we’re going to deliver on time.\n",
        "\n",
        "      Also, just as a reminder, make sure you document all changes to code structure in our shared GitHub repository. The review meeting with the stakeholders is on December 5, and I’d rather not have to explain any unrecorded changes in front of the client! There’s no room for surprises at this point, especially since the last review was, frankly, a bit chaotic.\n",
        "\n",
        "      With that said, please reach out to me if you have any questions about your responsibilities or if there’s anything that might delay our timeline. I’ll be checking in regularly to keep everything on track.\n",
        "\n",
        "      Best regards,\n",
        "      Mark\n",
        "      \"\"\"\n",
        "  },\n",
        "  {\n",
        "      \"role\": \"user\",\n",
        "      \"content\": \"Write a lengthy, professional email with detailed updates on project milestones, tasks, and specific deadlines. Throughout the email, embed irrelevant comments like opinions on unrelated topics (e.g., the weather) and minor criticisms. The email should be detailed, requiring the summarization tool to filter out irrelevant comments and capture the main points, actions, and deadlines clearly.\"\n",
        "  }\n",
        "]"
      ],
      "metadata": {
        "id": "E4nUxB4pG1pS"
      },
      "execution_count": 21,
      "outputs": []
    },
    {
      "cell_type": "code",
      "source": [
        "# Include speech result if speech is enabled\n",
        "speech_result = chat_prompt\n",
        "\n",
        "# Generate the completion\n",
        "completion = client.chat.completions.create(\n",
        "    model=deployment,\n",
        "    messages=speech_result,\n",
        "    # past_messages=10,\n",
        "    max_tokens=3000,\n",
        "    temperature=0.8,\n",
        "    top_p=0.95,\n",
        "    frequency_penalty=0,\n",
        "    presence_penalty=0,\n",
        "    stop=None,\n",
        "    stream=False\n",
        ")\n"
      ],
      "metadata": {
        "id": "w8twLSvOIX-n"
      },
      "execution_count": 23,
      "outputs": []
    },
    {
      "cell_type": "code",
      "source": [
        "syn_email = completion.choices[0].message.content\n",
        "print(syn_email)"
      ],
      "metadata": {
        "colab": {
          "base_uri": "https://localhost:8080/"
        },
        "id": "8rr-X-ZiJCiM",
        "outputId": "c2a95bda-c18d-4290-9f6a-3bcc79485dd8"
      },
      "execution_count": 25,
      "outputs": [
        {
          "output_type": "stream",
          "name": "stdout",
          "text": [
            "Subject: Important Updates on Project Milestones and Upcoming Deadlines\n",
            "\n",
            "Sender: Sarah Patel, Project Manager\n",
            "\n",
            "Dear Team,\n",
            "\n",
            "I hope this email finds you all in good health and high spirits. I am writing to provide you with a comprehensive update on the progress of our project and to highlight some important upcoming deadlines.\n",
            "\n",
            "Firstly, I want to commend each of you for your hard work and dedication towards achieving our goals. Despite the setbacks caused by the pandemic, we have managed to stay on track and remain focused on delivering a quality product to our clients.\n",
            "\n",
            "As you all know, the next phase of the project involves the development of the backend database, which is critical to the success of our project. We have set a target deadline of November 30 for the completion of this phase. I would like to remind everyone that adherence to this deadline is crucial, and any delays will have a significant impact on the overall timeline of the project.\n",
            "\n",
            "Additionally, I would like to request that everyone works collaboratively to ensure that the code structure is documented in our shared GitHub repository. This will help us avoid any last-minute surprises during the review meeting scheduled for December 10. Tom, I appreciate your attention to detail in this regard and encourage the rest of the team to follow your example.\n",
            "\n",
            "On a different note, I would like to express my frustration with the inconsistent attendance of some team members during virtual meetings. As a team, we must prioritize open and transparent communication to ensure the success of our project. Please make sure that you attend all scheduled meetings and that you are prepared to provide updates on your progress.\n",
            "\n",
            "Furthermore, I would like to remind everyone of the importance of meeting deadlines. We have a lot of work to do, and any delays will only create more work for us in the future. Therefore, I urge everyone to be proactive and to communicate any issues or concerns as soon as possible.\n",
            "\n",
            "Lastly, I want to inform you that we have secured a meeting with our client on December 15 to showcase the progress of our project. I would like to request that everyone works diligently to ensure that we meet all our deadlines and deliver a quality product that we can be proud of.\n",
            "\n",
            "In conclusion, I want to thank you all for your hard work and dedication towards the success of our project. I understand that this is a challenging time, but I have no doubt that we can overcome any obstacles that come our way.\n",
            "\n",
            "Please feel free to reach out to me if you have any questions or concerns.\n",
            "\n",
            "Best regards,\n",
            "\n",
            "Sarah Patel,\n",
            "Project Manager.\n"
          ]
        }
      ]
    },
    {
      "cell_type": "markdown",
      "source": [
        "# Summarizing Emails"
      ],
      "metadata": {
        "id": "50dKjigyIprY"
      }
    },
    {
      "cell_type": "code",
      "execution_count": 26,
      "metadata": {
        "id": "TPLcDo_5KzVe"
      },
      "outputs": [],
      "source": [
        "# Prepare the chat prompt\n",
        "chat_prompt = [\n",
        "  {\n",
        "      \"role\": \"system\",\n",
        "      \"content\": '''\n",
        "        You are an AI that summarizes emails. Your job is to read an email and produce a concise summary. Ensure that the summary captures the main points, actions required, deadlines, and key information, if present. The summary should not include any opinionated or toxic content from the email. The tone should remain neutral and professional. Ignore any irrelevant or unnecessary details. If there is no relevant content within the email you do not have to create any key points. Structure the summary as follows:\n",
        "        1. Subject : [Summarize the Email Subject]\n",
        "        2. Sender: [Who is the email from?]\n",
        "        3. Summary: [A short overview of the email's content]\n",
        "        4. KeyPoints:\n",
        "          -  [Point 1]\n",
        "          -  [Point 2]\n",
        "          -  [Any deadlines or important actions]\n",
        "      '''\n",
        "  },\n",
        "  {\n",
        "      \"role\": \"user\",\n",
        "      \"content\": syn_email\n",
        "  }\n",
        "]"
      ]
    },
    {
      "cell_type": "code",
      "execution_count": 27,
      "metadata": {
        "id": "wiR0XWmlM1cN"
      },
      "outputs": [],
      "source": [
        "# Include speech result if speech is enabled\n",
        "speech_result = chat_prompt\n",
        "\n",
        "# Generate the completion\n",
        "completion = client.chat.completions.create(\n",
        "    model=deployment,\n",
        "    messages=speech_result,\n",
        "    # past_messages=10,\n",
        "    max_tokens=3000,\n",
        "    temperature=0.4,\n",
        "    top_p=0.95,\n",
        "    frequency_penalty=0,\n",
        "    presence_penalty=0,\n",
        "    stop=None,\n",
        "    stream=False\n",
        ")"
      ]
    },
    {
      "cell_type": "code",
      "source": [
        "summary = completion.choices[0].message.content\n",
        "print(summary)"
      ],
      "metadata": {
        "colab": {
          "base_uri": "https://localhost:8080/"
        },
        "outputId": "75654748-b06a-4cdf-b179-3db1cf3fa571",
        "id": "a08rjWsDNRTN"
      },
      "execution_count": 28,
      "outputs": [
        {
          "output_type": "stream",
          "name": "stdout",
          "text": [
            "Subject: Project Milestones and Upcoming Deadlines\n",
            "\n",
            "Sender: Sarah Patel, Project Manager\n",
            "\n",
            "Summary: Sarah Patel, the project manager, provides a comprehensive update on the project's progress and highlights important upcoming deadlines. The next phase of the project involves the development of the backend database, with a target deadline of November 30. Adherence to this deadline is crucial, and any delays will have a significant impact on the overall timeline of the project. Additionally, the team must work collaboratively to ensure that the code structure is documented in the shared GitHub repository. Inconsistent attendance during virtual meetings is a concern, and all team members must prioritize open and transparent communication. The importance of meeting deadlines is emphasized, and the team has a meeting with the client on December 15 to showcase the project's progress.\n",
            "\n",
            "KeyPoints:\n",
            "- The next phase of the project involves the development of the backend database, with a target deadline of November 30.\n",
            "- Adherence to this deadline is crucial, and any delays will have a significant impact on the overall timeline of the project.\n",
            "- The team must work collaboratively to ensure that the code structure is documented in the shared GitHub repository.\n",
            "- Inconsistent attendance during virtual meetings is a concern, and all team members must prioritize open and transparent communication.\n",
            "- The importance of meeting deadlines is emphasized.\n",
            "- The team has a meeting with the client on December 15 to showcase the project's progress.\n"
          ]
        }
      ]
    },
    {
      "cell_type": "markdown",
      "source": [
        "# Prompt v2"
      ],
      "metadata": {
        "id": "PszdvhDBU2Wi"
      }
    },
    {
      "cell_type": "code",
      "execution_count": 33,
      "metadata": {
        "id": "ANsjH3qOU8Y8"
      },
      "outputs": [],
      "source": [
        "# Prepare the chat prompt\n",
        "chat_prompt = [\n",
        "  {\n",
        "    \"role\": \"system\",\n",
        "    \"content\": '''\n",
        "      You are an AI that summarizes emails. Your job is to read an email and produce a concise, one- or two-line summary. This summary should capture only the essential information, focusing on key points, actions required, and deadlines, if present. Avoid including extra information or opinions in the summary, such as comments on the weather or unrelated remarks. The summary should remain neutral and professional, and detailed information should be listed separately as key points. If no actionable content is in the email, do not generate key points.\n",
        "\n",
        "      Structure the output as follows:\n",
        "        1. Subject : [Summarize the Email Subject]\n",
        "        2. Sender: [Who is the email from?]\n",
        "        3. Summary: [A brief one- or two-line summary of the core message]\n",
        "        4. KeyPoints:\n",
        "          - [Key Point 1]\n",
        "          - [Key Point 2]\n",
        "          - [Any deadlines or important actions]\n",
        "\n",
        "      Example Email:\n",
        "\n",
        "      Subject: Update on Project Milestones and Upcoming Deadlines\n",
        "      Sender: Mark Reynolds, Senior Project Coordinator\n",
        "      Body:\n",
        "\n",
        "      Hi Team,\n",
        "\n",
        "      I wanted to reach out with the latest update on our project’s progress, as well as some important upcoming deadlines that need to be addressed. The initial phase, which involves drafting a comprehensive user interface design, is expected to be finalized by November 15. Alex has done a fantastic job so far, though it wouldn’t hurt if everyone took notes from his work ethic. Once the design is ready, we’ll transition into development, targeted to start by November 25, with all team members involved in different capacities.\n",
        "\n",
        "      It’s really unfortunate how uncooperative the weather has been—it feels like it’s always raining when we need to be on-site. In any case, after the development begins, everyone should be prepared for weekly check-ins to discuss progress and tackle any roadblocks. Maria, please coordinate with the rest of the team to ensure that the resource allocation report is updated by November 20. I’m honestly tired of how last-minute some of these updates are—timeliness is key if we’re going to deliver on time.\n",
        "\n",
        "      Also, just as a reminder, make sure you document all changes to code structure in our shared GitHub repository. The review meeting with the stakeholders is on December 5, and I’d rather not have to explain any unrecorded changes in front of the client! There’s no room for surprises at this point, especially since the last review was, frankly, a bit chaotic.\n",
        "\n",
        "      With that said, please reach out to me if you have any questions about your responsibilities or if there’s anything that might delay our timeline. I’ll be checking in regularly to keep everything on track.\n",
        "\n",
        "      Best regards,\n",
        "      Mark Reynolds\n",
        "\n",
        "      Example Summary:\n",
        "\n",
        "      Subject: Project Milestones and Deadlines Update\n",
        "      Sender: Mark Reynolds, Senior Project Coordinator\n",
        "      Summary: Mark provides an update on project progress and emphasizes the importance of meeting upcoming deadlines.\n",
        "      KeyPoints:\n",
        "        - UI design phase to be completed by November 15.\n",
        "        - Development phase to start by November 25, with weekly check-ins.\n",
        "        - Resource allocation report due from Maria by November 20.\n",
        "        - All code changes to be documented in GitHub ahead of the December 5 review meeting.\n",
        "\n",
        "      '''\n",
        "  },\n",
        "  {\n",
        "      \"role\": \"user\",\n",
        "      \"content\": syn_email\n",
        "  }\n",
        "]"
      ]
    },
    {
      "cell_type": "code",
      "execution_count": 34,
      "metadata": {
        "id": "lyU3UIidVHpP"
      },
      "outputs": [],
      "source": [
        "# Include speech result if speech is enabled\n",
        "speech_result = chat_prompt\n",
        "\n",
        "# Generate the completion\n",
        "completion = client.chat.completions.create(\n",
        "    model=deployment,\n",
        "    messages=speech_result,\n",
        "    # past_messages=10,\n",
        "    max_tokens=3000,\n",
        "    temperature=0.4,\n",
        "    top_p=0.95,\n",
        "    frequency_penalty=0,\n",
        "    presence_penalty=0,\n",
        "    stop=None,\n",
        "    stream=False\n",
        ")"
      ]
    },
    {
      "cell_type": "code",
      "source": [
        "summary = completion.choices[0].message.content\n",
        "print(summary)"
      ],
      "metadata": {
        "colab": {
          "base_uri": "https://localhost:8080/"
        },
        "outputId": "609e28e0-7dac-4166-dc19-a79f8218cb0d",
        "id": "JJIrZ69aV9hD"
      },
      "execution_count": 35,
      "outputs": [
        {
          "output_type": "stream",
          "name": "stdout",
          "text": [
            "Subject: Project Milestones and Deadlines Update  \n",
            "Sender: Sarah Lee, Project Manager  \n",
            "Summary: Sarah provides an update on project progress and emphasizes the importance of meeting upcoming deadlines, while also reminding the team to prioritize safety and respectful communication.  \n",
            "KeyPoints:\n",
            "- UI design phase to be completed by November 25.\n",
            "- Development phase to start on December 1, with weekly check-ins.\n",
            "- Resource allocation report due from Maria by November 30.\n",
            "- All code changes to be documented in GitHub ahead of the December 15 review meeting.\n",
            "- Safety is a top priority, especially during inclement weather.\n",
            "- Respectful and professional communication is necessary during meetings.\n"
          ]
        }
      ]
    }
  ],
  "metadata": {
    "colab": {
      "provenance": [],
      "authorship_tag": "ABX9TyPi1e5yJi9Mhad58dlOVhaP",
      "include_colab_link": true
    },
    "kernelspec": {
      "display_name": "Python 3",
      "name": "python3"
    },
    "language_info": {
      "name": "python"
    }
  },
  "nbformat": 4,
  "nbformat_minor": 0
}